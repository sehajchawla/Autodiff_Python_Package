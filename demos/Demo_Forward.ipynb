{
 "cells": [
  {
   "cell_type": "markdown",
   "metadata": {},
   "source": [
    "# Demo for forward mode"
   ]
  },
  {
   "cell_type": "code",
   "execution_count": 1,
   "metadata": {},
   "outputs": [],
   "source": [
    "import sys\n",
    "import numpy as np\n",
    "sys.path.append('../') \n",
    "\n",
    "from autodiff.ad import AutoDiff\n",
    "from autodiff.vector_forward import Vector_Forward"
   ]
  },
  {
   "cell_type": "markdown",
   "metadata": {},
   "source": [
    "### handle scalar case in forward mode"
   ]
  },
  {
   "cell_type": "code",
   "execution_count": 2,
   "metadata": {},
   "outputs": [
    {
     "name": "stdout",
     "output_type": "stream",
     "text": [
      "[0.]\n",
      "{'x': array([2.])}\n"
     ]
    }
   ],
   "source": [
    "val = 0 # Value to evaluate at\n",
    "\n",
    "# Create an AD forward mode object with val\n",
    "x = AutoDiff(val, name=\"x\")\n",
    "\n",
    "f = AutoDiff.sin(2 * x) # function to be evaluate, i.e. f(x) = sin(2x)\n",
    "\n",
    "print(f.val) # Output the function value \n",
    "print(f.der) # Output the function derivative"
   ]
  },
  {
   "cell_type": "markdown",
   "metadata": {},
   "source": [
    "### handle vector case for a single variable in forward mode"
   ]
  },
  {
   "cell_type": "code",
   "execution_count": 3,
   "metadata": {},
   "outputs": [
    {
     "name": "stdout",
     "output_type": "stream",
     "text": [
      "[9.98410258e-01 8.13949454e-01 6.22580352e-01 4.05402978e-04\n",
      " 1.00000000e+00]\n",
      "{'x': array([ 1.81347563e-002,  4.91036710e-001,  3.40145666e+000,\n",
      "        1.53055156e-003, -2.08494059e-130])}\n"
     ]
    }
   ],
   "source": [
    "# Create an AD forward mode object with vector\n",
    "x = AutoDiff([-1.0, -3.0, -5.0, -7.0, 0.1], name=\"x\")\n",
    "\n",
    "f = AutoDiff.logistic(AutoDiff.tan(x) + (3 * x ** (-2)) + (2 * x) + 7) # function to be evaluate\n",
    "\n",
    "print(f.val) # Output the function value \n",
    "print(f.der) # Output the function derivative"
   ]
  },
  {
   "cell_type": "markdown",
   "metadata": {},
   "source": [
    "### handle vector case for various variables in forward mode"
   ]
  },
  {
   "cell_type": "code",
   "execution_count": 4,
   "metadata": {},
   "outputs": [
    {
     "name": "stdout",
     "output_type": "stream",
     "text": [
      "[ 2. -0.]\n",
      "{'y': array([-0.25, -0.  ]), 'x': array([ 0.125, -1.   ])}\n"
     ]
    }
   ],
   "source": [
    "# Create an AD forward mode object with vector for x\n",
    "x = AutoDiff([16, 0], name=\"x\")\n",
    "\n",
    "# Create an AD forward mode object with vector for y\n",
    "y = AutoDiff([8, -1], name=\"y\")\n",
    "\n",
    "f = x / y  # function to be evaluate, i.e. f(x, y) = x / y\n",
    "\n",
    "print(f.val) # Output the function value \n",
    "print(f.der) # Output the function derivative"
   ]
  },
  {
   "cell_type": "markdown",
   "metadata": {},
   "source": [
    "### handle the case of various functions - a simple case when the input of different variables is scalar"
   ]
  },
  {
   "cell_type": "code",
   "execution_count": 5,
   "metadata": {},
   "outputs": [
    {
     "name": "stdout",
     "output_type": "stream",
     "text": [
      "[[ 1.8930000e+03 -7.8223089e-01]]\n",
      "['x', 'y']\n",
      "[array([[ 1.20000000e+01,  1.50000000e+03],\n",
      "       [-6.22988631e-01, -2.49195453e+01]])]\n"
     ]
    }
   ],
   "source": [
    "# Create an AD forward mode object with value for x\n",
    "x = AutoDiff(3, name='x')\n",
    "# Create an AD forward mode object with value for y\n",
    "y = AutoDiff(5, name='y')\n",
    "f1 = (2 * x ** 2) + (3 * y ** 4)\n",
    "f2 = AutoDiff.cos(x + (4 * y ** 2))\n",
    "v = Vector_Forward([f1, f2])\n",
    "\n",
    "print(v.val())\n",
    "print(v.jacobian()[0])\n",
    "print(v.jacobian()[1])"
   ]
  },
  {
   "cell_type": "markdown",
   "metadata": {},
   "source": [
    "### handle the case of various functions - multiple variables, and each of the variable has vector input, and we evaluate them for multiple functions"
   ]
  },
  {
   "cell_type": "code",
   "execution_count": 6,
   "metadata": {},
   "outputs": [
    {
     "name": "stdout",
     "output_type": "stream",
     "text": [
      "[[ 1.89300000e+03 -7.82230890e-01]\n",
      " [ 5.00000000e+01 -2.75163338e-01]]\n",
      "['x', 'y']\n",
      "[array([[ 1.20000000e+01,  1.50000000e+03],\n",
      "       [-6.22988631e-01, -2.49195453e+01]]), array([[ 4.        , 96.        ],\n",
      "       [ 0.96139749, 15.38235987]])]\n"
     ]
    }
   ],
   "source": [
    "x = AutoDiff([3, 1], name='x')\n",
    "y = AutoDiff([5, 2], name='y')\n",
    "f1 = (2 * x ** 2) + (3 * y ** 4)\n",
    "f2 = AutoDiff.cos(x + (4 * y ** 2))\n",
    "v = Vector_Forward([f1, f2])\n",
    "print(v.val())\n",
    "print(v.jacobian()[0])\n",
    "print(v.jacobian()[1])"
   ]
  },
  {
   "cell_type": "code",
   "execution_count": null,
   "metadata": {},
   "outputs": [],
   "source": []
  }
 ],
 "metadata": {
  "kernelspec": {
   "display_name": "Python 3",
   "language": "python",
   "name": "python3"
  },
  "language_info": {
   "codemirror_mode": {
    "name": "ipython",
    "version": 3
   },
   "file_extension": ".py",
   "mimetype": "text/x-python",
   "name": "python",
   "nbconvert_exporter": "python",
   "pygments_lexer": "ipython3",
   "version": "3.8.3"
  }
 },
 "nbformat": 4,
 "nbformat_minor": 4
}
