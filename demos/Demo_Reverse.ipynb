{
 "cells": [
  {
   "cell_type": "markdown",
   "metadata": {},
   "source": [
    "# Demo for Reverse Mode"
   ]
  },
  {
   "cell_type": "code",
   "execution_count": 1,
   "metadata": {},
   "outputs": [],
   "source": [
    "import sys\n",
    "sys.path.append('../') \n",
    "\n",
    "from autodiff.reverse import Reverse\n",
    "import numpy as np\n",
    "from autodiff.vector_reverse import ReverseVector"
   ]
  },
  {
   "cell_type": "markdown",
   "metadata": {},
   "source": [
    "### Scalar case"
   ]
  },
  {
   "cell_type": "code",
   "execution_count": 2,
   "metadata": {},
   "outputs": [
    {
     "name": "stdout",
     "output_type": "stream",
     "text": [
      "[1066.30088158]\n"
     ]
    }
   ],
   "source": [
    "# create a reverse mode variable that can be used later\n",
    "x = Reverse(5)  \n",
    "\n",
    "# create the function y = (sinh(x))^0.5 + 2^x + 7e^x + sin(cos(x))\n",
    "y = Reverse.sqrt(Reverse.sinh(x)) + 2**x + 7*Reverse.exp(x) + Reverse.sin(Reverse.cos(x)) \n",
    "\n",
    "# we want dy/dx this is with respect to x, so we first clear any initialisation that was previously existing using .reset_gradient()\n",
    "x.reset_gradient()  \n",
    "\n",
    "# we want dy/dx so we set y.gradient_value to 1\n",
    "y.gradient_value = 1  \n",
    "\n",
    "# Finally to get dy/dx calculate get_gradient at x (since we want dy/dx i.e. w.r.t. x)\n",
    "dy_dx = x.get_gradient()  \n",
    "\n",
    "# print the gradient value found to console\n",
    "print(dy_dx)"
   ]
  },
  {
   "cell_type": "markdown",
   "metadata": {},
   "source": [
    "### Vector case for a single variable"
   ]
  },
  {
   "cell_type": "code",
   "execution_count": 3,
   "metadata": {},
   "outputs": [
    {
     "name": "stdout",
     "output_type": "stream",
     "text": [
      "[4. 6. 8.]\n"
     ]
    }
   ],
   "source": [
    "# create a reverse mode variable that can be used later (this time using a numpy array or python list)\n",
    "x = Reverse([1, 2, 3])  \n",
    "\n",
    "# create the function y = 2x + x^2\n",
    "y =  2*x + x**2 \n",
    "\n",
    "# we want dy/dx this is with respect to x, so we first clear any initialisation that was previously existing using .reset_gradient()\n",
    "x.reset_gradient()  \n",
    "\n",
    "# we want dy/dx so we set y.gradient_value to 1\n",
    "y.gradient_value = 1  \n",
    "\n",
    "# Finally to get dy/dx calculate get_gradient at x (since we want dy/dx i.e. w.r.t. x)\n",
    "dy_dx = x.get_gradient()  \n",
    "\n",
    "# print the gradient value found to console\n",
    "print(dy_dx)"
   ]
  },
  {
   "cell_type": "markdown",
   "metadata": {},
   "source": [
    "### Vector case for multi variables"
   ]
  },
  {
   "cell_type": "code",
   "execution_count": 4,
   "metadata": {},
   "outputs": [
    {
     "name": "stdout",
     "output_type": "stream",
     "text": [
      "[[[26.         12.          9.         62.         24.        ]]\n",
      "\n",
      " [[16.          1.          0.22222222  0.375       0.16      ]]]\n",
      "[[[ 2.00000000e+00  6.77258872e+00  9.29583687e+00  9.67228391e+01\n",
      "    5.02359478e+01]]\n",
      "\n",
      " [[-1.28000000e+02 -1.00000000e+00 -7.40740741e-02 -2.81250000e-01\n",
      "   -6.40000000e-02]]]\n",
      "[[[ 2.60000000e+01  1.20000000e+01  9.00000000e+00  6.20000000e+01\n",
      "    2.40000000e+01]\n",
      "  [ 2.00000000e+00  6.77258872e+00  9.29583687e+00  9.67228391e+01\n",
      "    5.02359478e+01]]\n",
      "\n",
      " [[-1.28000000e+02 -1.00000000e+00 -7.40740741e-02 -2.81250000e-01\n",
      "   -6.40000000e-02]\n",
      "  [ 1.60000000e+01  1.00000000e+00  2.22222222e-01  3.75000000e-01\n",
      "    1.60000000e-01]]]\n"
     ]
    }
   ],
   "source": [
    "# Here we start by creating two variables that are vectors (x and y)\n",
    "x = Reverse([1, 2, 3, 4, 5])\n",
    "y = Reverse([8, 2, 1, 3, 2])\n",
    "\n",
    "# And say we want our output as a vector of functions i.e. [f1, f2] then\n",
    "f1 = x**2 + x**y + 2*x*y  # We first define f1\n",
    "f2 = (y/x)**2  # then define f2\n",
    "\n",
    "# Finally we combine both the functions into a vector using the ReverseVector class\n",
    "vect = ReverseVector([f1, f2])\n",
    "\n",
    "# Using this then, we can find our vector of function's value evaluated at the point we initialised it at.\n",
    "eval_arr = vect.val_func_order()\n",
    "\n",
    "# Now for derivatives, we call der_func_order() which takes in the argument a list of lists where if our vector of functions is [f1, f2] then:\n",
    "der1_arr = vect.der_func_order([[x], [y]])  # returns [[df1/dx], [df2/dy]]\n",
    "der2_arr = vect.der_func_order([[y], [x]])  # returns [[df1/dy], [df2/dx]]\n",
    "der3_arr = vect.der_func_order([[x, y], [x, y]])  # returns [[df1/dx, df1/dy], [df2/dx, df2/dy]]\n",
    "\n",
    "# i.e. the output follows the same format as the input that you define\n",
    "# Note: You are passing in the Reverse object x in the lists above not a string \"x\".\n",
    "print(der1_arr)\n",
    "print(der2_arr)\n",
    "print(der3_arr)"
   ]
  },
  {
   "cell_type": "code",
   "execution_count": null,
   "metadata": {},
   "outputs": [],
   "source": []
  }
 ],
 "metadata": {
  "kernelspec": {
   "display_name": "Python 3",
   "language": "python",
   "name": "python3"
  },
  "language_info": {
   "codemirror_mode": {
    "name": "ipython",
    "version": 3
   },
   "file_extension": ".py",
   "mimetype": "text/x-python",
   "name": "python",
   "nbconvert_exporter": "python",
   "pygments_lexer": "ipython3",
   "version": "3.8.3"
  }
 },
 "nbformat": 4,
 "nbformat_minor": 4
}
